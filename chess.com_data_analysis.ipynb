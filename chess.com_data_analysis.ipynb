{
 "cells": [
  {
   "cell_type": "markdown",
   "metadata": {},
   "source": [
    "# Chess.com Games Played Data Analysis"
   ]
  },
  {
   "cell_type": "markdown",
   "metadata": {},
   "source": [
    "Data Analysis and Data Visualization of your chess games on Chess.com\n",
    "\n",
    "NOTE: To use, first run chess.com_exporter.ipynb to download and your games played data."
   ]
  },
  {
   "cell_type": "markdown",
   "metadata": {},
   "source": [
    "-----"
   ]
  },
  {
   "cell_type": "code",
   "execution_count": 1,
   "metadata": {},
   "outputs": [],
   "source": [
    "my_user = \"markwk\""
   ]
  },
  {
   "cell_type": "markdown",
   "metadata": {},
   "source": [
    "## Dependencies"
   ]
  },
  {
   "cell_type": "code",
   "execution_count": 2,
   "metadata": {},
   "outputs": [],
   "source": [
    "from datetime import date, datetime as dt, timedelta as td\n",
    "import numpy as np\n",
    "import pandas as pd\n",
    "\n",
    "import matplotlib.pyplot as plt\n",
    "%matplotlib inline"
   ]
  },
  {
   "cell_type": "markdown",
   "metadata": {},
   "source": [
    "----"
   ]
  },
  {
   "cell_type": "markdown",
   "metadata": {},
   "source": [
    "## Simple Data Check and Data Analysis"
   ]
  },
  {
   "cell_type": "code",
   "execution_count": 3,
   "metadata": {
    "collapsed": true
   },
   "outputs": [],
   "source": [
    "games = pd.read_csv(\"data/\" + my_user + \"_games_played_detailed.csv\")"
   ]
  },
  {
   "cell_type": "code",
   "execution_count": 4,
   "metadata": {},
   "outputs": [
    {
     "data": {
      "text/plain": [
       "Index(['end_time', 'fen', 'pgn', 'rated', 'rules', 'time_class',\n",
       "       'time_control', 'url', 'black_id', 'black_rating', 'black_result',\n",
       "       'black_username', 'white_id', 'white_rating', 'white_result',\n",
       "       'white_username', 'my_side', 'my_result', 'termination', 'total_moves',\n",
       "       'start_time', 'pgn_end_time', 'moves_times_white', 'moves_times_black'],\n",
       "      dtype='object')"
      ]
     },
     "execution_count": 4,
     "metadata": {},
     "output_type": "execute_result"
    }
   ],
   "source": [
    "games.columns"
   ]
  },
  {
   "cell_type": "code",
   "execution_count": 5,
   "metadata": {},
   "outputs": [
    {
     "name": "stdout",
     "output_type": "stream",
     "text": [
      "74 total games played\n"
     ]
    }
   ],
   "source": [
    "print('{:,} total games played'.format(len(games)))"
   ]
  },
  {
   "cell_type": "code",
   "execution_count": 6,
   "metadata": {
    "collapsed": true
   },
   "outputs": [],
   "source": [
    "# date additions\n",
    "games['end_time'] = pd.to_datetime(games['end_time'])\n",
    "games['date'] = games['end_time'].apply(lambda x: x.strftime('%Y-%m-%d')) # note: not very efficient\n",
    "games['year'] = games['end_time'].dt.year\n",
    "games['month'] = games['end_time'].dt.month\n",
    "games['mnth_yr'] = games['end_time'].apply(lambda x: x.strftime('%Y-%m')) # note: not very efficient\n",
    "games['day'] = games['end_time'].dt.day\n",
    "games['dow'] = games['end_time'].dt.weekday\n",
    "games['hour'] = games['end_time'].dt.hour"
   ]
  },
  {
   "cell_type": "code",
   "execution_count": 7,
   "metadata": {},
   "outputs": [
    {
     "data": {
      "text/html": [
       "<div>\n",
       "<style scoped>\n",
       "    .dataframe tbody tr th:only-of-type {\n",
       "        vertical-align: middle;\n",
       "    }\n",
       "\n",
       "    .dataframe tbody tr th {\n",
       "        vertical-align: top;\n",
       "    }\n",
       "\n",
       "    .dataframe thead th {\n",
       "        text-align: right;\n",
       "    }\n",
       "</style>\n",
       "<table border=\"1\" class=\"dataframe\">\n",
       "  <thead>\n",
       "    <tr style=\"text-align: right;\">\n",
       "      <th></th>\n",
       "      <th>end_time</th>\n",
       "      <th>fen</th>\n",
       "      <th>pgn</th>\n",
       "      <th>rated</th>\n",
       "      <th>rules</th>\n",
       "      <th>time_class</th>\n",
       "      <th>time_control</th>\n",
       "      <th>url</th>\n",
       "      <th>black_id</th>\n",
       "      <th>black_rating</th>\n",
       "      <th>...</th>\n",
       "      <th>pgn_end_time</th>\n",
       "      <th>moves_times_white</th>\n",
       "      <th>moves_times_black</th>\n",
       "      <th>date</th>\n",
       "      <th>year</th>\n",
       "      <th>month</th>\n",
       "      <th>mnth_yr</th>\n",
       "      <th>day</th>\n",
       "      <th>dow</th>\n",
       "      <th>hour</th>\n",
       "    </tr>\n",
       "  </thead>\n",
       "  <tbody>\n",
       "    <tr>\n",
       "      <th>69</th>\n",
       "      <td>2018-09-14 12:22:37</td>\n",
       "      <td>1k1q4/p7/1pQ4p/8/2B5/N1P5/PP3PPN/4R1K1 b - -</td>\n",
       "      <td>[Event \"Live Chess\"]\\n[Site \"Chess.com\"]\\n[Dat...</td>\n",
       "      <td>True</td>\n",
       "      <td>chess</td>\n",
       "      <td>blitz</td>\n",
       "      <td>600</td>\n",
       "      <td>https://www.chess.com/live/game/3074572090</td>\n",
       "      <td>https://api.chess.com/pub/player/markwk</td>\n",
       "      <td>982</td>\n",
       "      <td>...</td>\n",
       "      <td>2018-09-14 12:22:37</td>\n",
       "      <td>0:09:59.9, 0:09:50.8, 0:09:49.3, 0:09:43.8, 0:...</td>\n",
       "      <td>0:09:59, 0:09:53.8, 0:09:40, 0:09:04.8, 0:08:4...</td>\n",
       "      <td>2018-09-14</td>\n",
       "      <td>2018</td>\n",
       "      <td>9</td>\n",
       "      <td>2018-09</td>\n",
       "      <td>14</td>\n",
       "      <td>4</td>\n",
       "      <td>12</td>\n",
       "    </tr>\n",
       "    <tr>\n",
       "      <th>70</th>\n",
       "      <td>2018-09-14 13:06:03</td>\n",
       "      <td>R7/8/5k2/p7/1p6/1P6/P4K2/8 b - -</td>\n",
       "      <td>[Event \"Live Chess\"]\\n[Site \"Chess.com\"]\\n[Dat...</td>\n",
       "      <td>True</td>\n",
       "      <td>chess</td>\n",
       "      <td>blitz</td>\n",
       "      <td>600</td>\n",
       "      <td>https://www.chess.com/live/game/3074644572</td>\n",
       "      <td>https://api.chess.com/pub/player/markwk</td>\n",
       "      <td>973</td>\n",
       "      <td>...</td>\n",
       "      <td>2018-09-14 13:06:03</td>\n",
       "      <td>0:09:59.9, 0:09:58, 0:09:56.7, 0:09:55.1, 0:09...</td>\n",
       "      <td>0:09:56.1, 0:09:48.5, 0:09:42, 0:09:36.2, 0:09...</td>\n",
       "      <td>2018-09-14</td>\n",
       "      <td>2018</td>\n",
       "      <td>9</td>\n",
       "      <td>2018-09</td>\n",
       "      <td>14</td>\n",
       "      <td>4</td>\n",
       "      <td>13</td>\n",
       "    </tr>\n",
       "    <tr>\n",
       "      <th>71</th>\n",
       "      <td>2018-09-15 12:44:53</td>\n",
       "      <td>r4rk1/ppb1n1p1/2p1p2p/3pn3/1P3PP1/P1NBB1qP/2P2...</td>\n",
       "      <td>[Event \"Live Chess\"]\\n[Site \"Chess.com\"]\\n[Dat...</td>\n",
       "      <td>True</td>\n",
       "      <td>chess</td>\n",
       "      <td>blitz</td>\n",
       "      <td>600</td>\n",
       "      <td>https://www.chess.com/live/game/3076863036</td>\n",
       "      <td>https://api.chess.com/pub/player/aguchi13</td>\n",
       "      <td>925</td>\n",
       "      <td>...</td>\n",
       "      <td>2018-09-15 12:44:53</td>\n",
       "      <td>0:09:59.9, 0:09:58.2, 0:09:55.1, 0:09:41.8, 0:...</td>\n",
       "      <td>0:09:57.7, 0:09:55.8, 0:09:53.4, 0:09:50.9, 0:...</td>\n",
       "      <td>2018-09-15</td>\n",
       "      <td>2018</td>\n",
       "      <td>9</td>\n",
       "      <td>2018-09</td>\n",
       "      <td>15</td>\n",
       "      <td>5</td>\n",
       "      <td>12</td>\n",
       "    </tr>\n",
       "    <tr>\n",
       "      <th>72</th>\n",
       "      <td>2018-09-15 13:10:55</td>\n",
       "      <td>8/1ppb4/8/1p4p1/1kR5/6P1/Q4P1P/6K1 b - -</td>\n",
       "      <td>[Event \"Live Chess\"]\\n[Site \"Chess.com\"]\\n[Dat...</td>\n",
       "      <td>True</td>\n",
       "      <td>chess</td>\n",
       "      <td>blitz</td>\n",
       "      <td>600</td>\n",
       "      <td>https://www.chess.com/live/game/3076901697</td>\n",
       "      <td>https://api.chess.com/pub/player/markwk</td>\n",
       "      <td>973</td>\n",
       "      <td>...</td>\n",
       "      <td>2018-09-15 13:10:55</td>\n",
       "      <td>0:09:59.9, 0:09:54.3, 0:09:28.2, 0:09:24, 0:09...</td>\n",
       "      <td>0:09:58.2, 0:09:49.9, 0:09:14, 0:09:10.3, 0:09...</td>\n",
       "      <td>2018-09-15</td>\n",
       "      <td>2018</td>\n",
       "      <td>9</td>\n",
       "      <td>2018-09</td>\n",
       "      <td>15</td>\n",
       "      <td>5</td>\n",
       "      <td>13</td>\n",
       "    </tr>\n",
       "    <tr>\n",
       "      <th>73</th>\n",
       "      <td>2018-09-16 03:04:11</td>\n",
       "      <td>8/pb4k1/4p3/1pp4p/7q/3P4/PP6/3K1R2 w - -</td>\n",
       "      <td>[Event \"Live Chess\"]\\n[Site \"Chess.com\"]\\n[Dat...</td>\n",
       "      <td>True</td>\n",
       "      <td>chess</td>\n",
       "      <td>blitz</td>\n",
       "      <td>600</td>\n",
       "      <td>https://www.chess.com/live/game/3078329073</td>\n",
       "      <td>https://api.chess.com/pub/player/markwk</td>\n",
       "      <td>980</td>\n",
       "      <td>...</td>\n",
       "      <td>2018-09-16 03:04:11</td>\n",
       "      <td>0:09:58.1, 0:09:56.5, 0:09:52.6, 0:09:46.9, 0:...</td>\n",
       "      <td>0:09:58, 0:09:56.1, 0:09:39.7, 0:09:28, 0:09:2...</td>\n",
       "      <td>2018-09-16</td>\n",
       "      <td>2018</td>\n",
       "      <td>9</td>\n",
       "      <td>2018-09</td>\n",
       "      <td>16</td>\n",
       "      <td>6</td>\n",
       "      <td>3</td>\n",
       "    </tr>\n",
       "  </tbody>\n",
       "</table>\n",
       "<p>5 rows × 31 columns</p>\n",
       "</div>"
      ],
      "text/plain": [
       "              end_time                                                fen  \\\n",
       "69 2018-09-14 12:22:37       1k1q4/p7/1pQ4p/8/2B5/N1P5/PP3PPN/4R1K1 b - -   \n",
       "70 2018-09-14 13:06:03                   R7/8/5k2/p7/1p6/1P6/P4K2/8 b - -   \n",
       "71 2018-09-15 12:44:53  r4rk1/ppb1n1p1/2p1p2p/3pn3/1P3PP1/P1NBB1qP/2P2...   \n",
       "72 2018-09-15 13:10:55           8/1ppb4/8/1p4p1/1kR5/6P1/Q4P1P/6K1 b - -   \n",
       "73 2018-09-16 03:04:11           8/pb4k1/4p3/1pp4p/7q/3P4/PP6/3K1R2 w - -   \n",
       "\n",
       "                                                  pgn  rated  rules  \\\n",
       "69  [Event \"Live Chess\"]\\n[Site \"Chess.com\"]\\n[Dat...   True  chess   \n",
       "70  [Event \"Live Chess\"]\\n[Site \"Chess.com\"]\\n[Dat...   True  chess   \n",
       "71  [Event \"Live Chess\"]\\n[Site \"Chess.com\"]\\n[Dat...   True  chess   \n",
       "72  [Event \"Live Chess\"]\\n[Site \"Chess.com\"]\\n[Dat...   True  chess   \n",
       "73  [Event \"Live Chess\"]\\n[Site \"Chess.com\"]\\n[Dat...   True  chess   \n",
       "\n",
       "   time_class  time_control                                         url  \\\n",
       "69      blitz           600  https://www.chess.com/live/game/3074572090   \n",
       "70      blitz           600  https://www.chess.com/live/game/3074644572   \n",
       "71      blitz           600  https://www.chess.com/live/game/3076863036   \n",
       "72      blitz           600  https://www.chess.com/live/game/3076901697   \n",
       "73      blitz           600  https://www.chess.com/live/game/3078329073   \n",
       "\n",
       "                                     black_id  black_rating  ...   \\\n",
       "69    https://api.chess.com/pub/player/markwk           982  ...    \n",
       "70    https://api.chess.com/pub/player/markwk           973  ...    \n",
       "71  https://api.chess.com/pub/player/aguchi13           925  ...    \n",
       "72    https://api.chess.com/pub/player/markwk           973  ...    \n",
       "73    https://api.chess.com/pub/player/markwk           980  ...    \n",
       "\n",
       "           pgn_end_time                                  moves_times_white  \\\n",
       "69  2018-09-14 12:22:37  0:09:59.9, 0:09:50.8, 0:09:49.3, 0:09:43.8, 0:...   \n",
       "70  2018-09-14 13:06:03  0:09:59.9, 0:09:58, 0:09:56.7, 0:09:55.1, 0:09...   \n",
       "71  2018-09-15 12:44:53  0:09:59.9, 0:09:58.2, 0:09:55.1, 0:09:41.8, 0:...   \n",
       "72  2018-09-15 13:10:55  0:09:59.9, 0:09:54.3, 0:09:28.2, 0:09:24, 0:09...   \n",
       "73  2018-09-16 03:04:11  0:09:58.1, 0:09:56.5, 0:09:52.6, 0:09:46.9, 0:...   \n",
       "\n",
       "                                    moves_times_black        date  year month  \\\n",
       "69  0:09:59, 0:09:53.8, 0:09:40, 0:09:04.8, 0:08:4...  2018-09-14  2018     9   \n",
       "70  0:09:56.1, 0:09:48.5, 0:09:42, 0:09:36.2, 0:09...  2018-09-14  2018     9   \n",
       "71  0:09:57.7, 0:09:55.8, 0:09:53.4, 0:09:50.9, 0:...  2018-09-15  2018     9   \n",
       "72  0:09:58.2, 0:09:49.9, 0:09:14, 0:09:10.3, 0:09...  2018-09-15  2018     9   \n",
       "73  0:09:58, 0:09:56.1, 0:09:39.7, 0:09:28, 0:09:2...  2018-09-16  2018     9   \n",
       "\n",
       "    mnth_yr day dow  hour  \n",
       "69  2018-09  14   4    12  \n",
       "70  2018-09  14   4    13  \n",
       "71  2018-09  15   5    12  \n",
       "72  2018-09  15   5    13  \n",
       "73  2018-09  16   6     3  \n",
       "\n",
       "[5 rows x 31 columns]"
      ]
     },
     "execution_count": 7,
     "metadata": {},
     "output_type": "execute_result"
    }
   ],
   "source": [
    "games.tail()"
   ]
  },
  {
   "cell_type": "markdown",
   "metadata": {},
   "source": [
    "----"
   ]
  },
  {
   "cell_type": "markdown",
   "metadata": {},
   "source": [
    "## Monthly Analysis"
   ]
  },
  {
   "cell_type": "code",
   "execution_count": 8,
   "metadata": {
    "collapsed": true
   },
   "outputs": [
    {
     "data": {
      "text/plain": [
       "2018-09    74\n",
       "Name: mnth_yr, dtype: int64"
      ]
     },
     "execution_count": 8,
     "metadata": {},
     "output_type": "execute_result"
    }
   ],
   "source": [
    "month_counts = games['mnth_yr'].value_counts().sort_index()\n",
    "month_counts.columns = ['Count']\n",
    "month_counts.tail()"
   ]
  },
  {
   "cell_type": "code",
   "execution_count": 9,
   "metadata": {
    "collapsed": true
   },
   "outputs": [],
   "source": [
    "# not every month necessarily has a game, so fill in missing months with zero counts\n",
    "#date_range = pd.date_range(start=min(highlights_10['timestamp']), end=max(highlights_10['timestamp']))\n",
    "#months_range = date_range.map(lambda x: str(x.date())[:-3])\n",
    "#index = np.unique(months_range)\n",
    "# month_counts = month_counts.reindex(index, fill_value=0)"
   ]
  },
  {
   "cell_type": "code",
   "execution_count": 10,
   "metadata": {},
   "outputs": [
    {
     "data": {
      "text/plain": [
       "1"
      ]
     },
     "execution_count": 10,
     "metadata": {},
     "output_type": "execute_result"
    }
   ],
   "source": [
    "# total months\n",
    "len(month_counts)"
   ]
  },
  {
   "cell_type": "code",
   "execution_count": 11,
   "metadata": {},
   "outputs": [
    {
     "data": {
      "image/png": "[encoded data removed]",
      "text/plain": [
       "<matplotlib.figure.Figure at 0x10abc4400>"
      ]
     },
     "metadata": {},
     "output_type": "display_data"
    }
   ],
   "source": [
    "# a bit of a hackish solution, could use improvement\n",
    "dataset = month_counts.tail(20)\n",
    "chart_title = 'Number of Games per month'\n",
    "\n",
    "max = np.max(np.array(month_counts)) + 5\n",
    "n_groups = len(dataset)\n",
    "index = np.arange(n_groups)\n",
    "\n",
    "ax = dataset.plot(kind='line', figsize=[12, 5], linewidth=4, alpha=1, marker='o', color='#6684c1', \n",
    "                      markeredgecolor='#6684c1', markerfacecolor='w', markersize=8, markeredgewidth=2)\n",
    "\n",
    "# ax.set_xlim((year_counts.index[0], year_counts.index[-1]))\n",
    "\n",
    "ax.yaxis.grid(True)\n",
    "ax.xaxis.grid(True)\n",
    "ax.set_ylim(0, max)\n",
    "ax.set_xticks(index)\n",
    "ax.set_ylabel('Number of Games')\n",
    "# ax.set_xlabel('')\n",
    "plt.xticks(index, dataset.index, rotation=90)\n",
    "ax.set_title(chart_title)\n",
    "\n",
    "plt.show()"
   ]
  },
  {
   "cell_type": "markdown",
   "metadata": {},
   "source": [
    "-----"
   ]
  },
  {
   "cell_type": "markdown",
   "metadata": {},
   "source": [
    "## Games Per Day"
   ]
  },
  {
   "cell_type": "code",
   "execution_count": 12,
   "metadata": {},
   "outputs": [],
   "source": [
    "daily_counts = games['date'].value_counts().sort_index()\n",
    "daily_counts.columns = ['Count']"
   ]
  },
  {
   "cell_type": "code",
   "execution_count": 13,
   "metadata": {},
   "outputs": [],
   "source": [
    "# daily_counts.tail(10)"
   ]
  },
  {
   "cell_type": "code",
   "execution_count": 14,
   "metadata": {},
   "outputs": [
    {
     "data": {
      "image/png": "[encoded data removed]",
      "text/plain": [
       "<matplotlib.figure.Figure at 0x10abc4128>"
      ]
     },
     "metadata": {},
     "output_type": "display_data"
    }
   ],
   "source": [
    "# a bit of a hackish solution, could use improvement\n",
    "dataset = daily_counts.tail(30)\n",
    "chart_title = 'Number of Games per day'\n",
    "\n",
    "max = np.max(np.array(dataset)) + 5\n",
    "n_groups = len(dataset)\n",
    "index = np.arange(n_groups)\n",
    "\n",
    "ax = dataset.plot(kind='line', figsize=[12, 5], linewidth=4, alpha=1, marker='o', color='#6684c1', \n",
    "                      markeredgecolor='#6684c1', markerfacecolor='w', markersize=8, markeredgewidth=2)\n",
    "\n",
    "# ax.set_xlim((year_counts.index[0], year_counts.index[-1]))\n",
    "\n",
    "ax.yaxis.grid(True)\n",
    "ax.xaxis.grid(True)\n",
    "# ax.set_ylim(0, 1000)\n",
    "ax.set_xticks(index)\n",
    "ax.set_ylabel('Number of Games')\n",
    "# ax.set_xlabel('')\n",
    "plt.xticks(index, dataset.index, rotation=90)\n",
    "ax.set_title(chart_title)\n",
    "\n",
    "plt.show()"
   ]
  },
  {
   "cell_type": "code",
   "execution_count": 15,
   "metadata": {},
   "outputs": [],
   "source": [
    "daily_counts.to_csv(\"data/\" + my_user + \"_daily_games_count.csv\")"
   ]
  }
 ],
 "metadata": {
  "kernelspec": {
   "display_name": "Python 3",
   "language": "python",
   "name": "python3"
  },
  "language_info": {
   "codemirror_mode": {
    "name": "ipython",
    "version": 3
   },
   "file_extension": ".py",
   "mimetype": "text/x-python",
   "name": "python",
   "nbconvert_exporter": "python",
   "pygments_lexer": "ipython3",
   "version": "3.6.2"
  }
 },
 "nbformat": 4,
 "nbformat_minor": 2
}
