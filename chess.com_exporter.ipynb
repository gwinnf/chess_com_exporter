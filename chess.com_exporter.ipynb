{
 "cells": [
  {
   "cell_type": "markdown",
   "metadata": {},
   "source": [
    "# Chess.com Exporter\n",
    "\n",
    "### Download Data from User Stats and Games Played Results and Export to CSV"
   ]
  },
  {
   "cell_type": "markdown",
   "metadata": {},
   "source": [
    "----\n",
    "\n",
    "API Docs:\n",
    "\n",
    "* https://www.chess.com/club/chess-com-developer-community\n",
    "* https://www.chess.com/news/view/published-data-api"
   ]
  },
  {
   "cell_type": "markdown",
   "metadata": {},
   "source": [
    "-----"
   ]
  },
  {
   "cell_type": "markdown",
   "metadata": {},
   "source": [
    "## Configure User Info"
   ]
  },
  {
   "cell_type": "code",
   "execution_count": 2,
   "metadata": {},
   "outputs": [],
   "source": [
    "my_user = \"markwk\""
   ]
  },
  {
   "cell_type": "markdown",
   "metadata": {},
   "source": [
    "------"
   ]
  },
  {
   "cell_type": "markdown",
   "metadata": {},
   "source": [
    "## Libraries and Dependencies"
   ]
  },
  {
   "cell_type": "code",
   "execution_count": 3,
   "metadata": {},
   "outputs": [],
   "source": [
    "import requests\n",
    "import time\n",
    "import json\n",
    "from datetime import datetime\n",
    "\n",
    "import numpy as np\n",
    "import pandas as pd"
   ]
  },
  {
   "cell_type": "markdown",
   "metadata": {},
   "source": [
    "-----"
   ]
  },
  {
   "cell_type": "markdown",
   "metadata": {},
   "source": [
    "# Get User Info and Current Stats"
   ]
  },
  {
   "cell_type": "code",
   "execution_count": 4,
   "metadata": {},
   "outputs": [],
   "source": [
    "def getChessUser(username):\n",
    "    r = requests.get(\"https://api.chess.com/pub/player/\"+username+\"/\")\n",
    "    user_info = r.json()\n",
    "    return user_info"
   ]
  },
  {
   "cell_type": "code",
   "execution_count": 5,
   "metadata": {},
   "outputs": [],
   "source": [
    "user_info = getChessUser(my_user)\n",
    "# print(json.dumps(user_info, indent=4, sort_keys=True))"
   ]
  },
  {
   "cell_type": "code",
   "execution_count": 7,
   "metadata": {},
   "outputs": [],
   "source": [
    "joined_date = datetime.utcfromtimestamp(user_info['joined'])\n",
    "\n",
    "print(joined_date)"
   ]
  },
  {
   "cell_type": "code",
   "execution_count": 8,
   "metadata": {},
   "outputs": [],
   "source": [
    "def getChessRatings(username):\n",
    "    r = requests.get(\"https://api.chess.com/pub/player/\"+username+\"/stats\")\n",
    "    user_stats = r.json()\n",
    "    return user_stats"
   ]
  },
  {
   "cell_type": "code",
   "execution_count": 169,
   "metadata": {},
   "outputs": [],
   "source": [
    "user_stats = getChessRatings(my_user)\n",
    "# print(json.dumps(user_stats, indent=4, sort_keys=True))"
   ]
  },
  {
   "cell_type": "code",
   "execution_count": 170,
   "metadata": {},
   "outputs": [
    {
     "name": "stdout",
     "output_type": "stream",
     "text": [
      "{'rating': 980, 'date': 1537067051, 'rd': 45}\n"
     ]
    }
   ],
   "source": [
    "# latest blitz rating\n",
    "print(user_stats['chess_blitz']['last'])"
   ]
  },
  {
   "cell_type": "markdown",
   "metadata": {},
   "source": [
    "-----"
   ]
  },
  {
   "cell_type": "markdown",
   "metadata": {},
   "source": [
    "# Get Archives List"
   ]
  },
  {
   "cell_type": "code",
   "execution_count": 11,
   "metadata": {},
   "outputs": [],
   "source": [
    "def getChessUserArchives(username):\n",
    "    r = requests.get(\"https://api.chess.com/pub/player/\"+username+\"/games/archives\")\n",
    "    a = r.json()\n",
    "    archives_list = a['archives']\n",
    "    \n",
    "    return archives_list"
   ]
  },
  {
   "cell_type": "code",
   "execution_count": 12,
   "metadata": {},
   "outputs": [],
   "source": [
    "archives = getChessUserArchives(my_user)"
   ]
  },
  {
   "cell_type": "code",
   "execution_count": 13,
   "metadata": {},
   "outputs": [
    {
     "data": {
      "text/plain": [
       "1"
      ]
     },
     "execution_count": 13,
     "metadata": {},
     "output_type": "execute_result"
    }
   ],
   "source": [
    "# total archives / months with games\n",
    "len(archives)"
   ]
  },
  {
   "cell_type": "code",
   "execution_count": 14,
   "metadata": {},
   "outputs": [],
   "source": [
    "monthlist = []\n",
    "\n",
    "for i in archives:\n",
    "    full_archive_link = i\n",
    "    month = full_archive_link.replace('https://api.chess.com/pub/player/' + my_user + '/games/',\"\")\n",
    "    monthlist.append(month)"
   ]
  },
  {
   "cell_type": "code",
   "execution_count": 15,
   "metadata": {},
   "outputs": [],
   "source": [
    "# helper function\n",
    "def months(start_month, start_year, end_month, end_year):\n",
    "\n",
    "    monthlist = []\n",
    "    month, year = end_month, end_year\n",
    "\n",
    "    while (year, month) >= (start_year, start_month):\n",
    "\n",
    "        str = format(year) + '/' + '{:02d}'.format(month)\n",
    "        monthlist.append(str)\n",
    "\n",
    "        month -= 1\n",
    "        if month < 1:\n",
    "            month = 12\n",
    "            year -= 1\n",
    "    \n",
    "    return monthlist"
   ]
  },
  {
   "cell_type": "code",
   "execution_count": 16,
   "metadata": {},
   "outputs": [],
   "source": [
    "# Alternative Option 2: Get all Months Since Joined\n",
    "start_year = joined_date.year\n",
    "start_month = joined_date.month\n",
    "\n",
    "end_year = datetime.now().year\n",
    "end_month = datetime.now().month"
   ]
  },
  {
   "cell_type": "code",
   "execution_count": 17,
   "metadata": {},
   "outputs": [],
   "source": [
    "# Alternative Option 3: manually set dates\n",
    "\n",
    "# start_year = 2018\n",
    "# start_month = 1\n",
    "\n",
    "# end_year = 2018\n",
    "# end_month = 6"
   ]
  },
  {
   "cell_type": "code",
   "execution_count": 18,
   "metadata": {},
   "outputs": [],
   "source": [
    "# uncoment to run option 2 or 3\n",
    "# monthlist = months(start_month, start_year, end_month, end_year)"
   ]
  },
  {
   "cell_type": "markdown",
   "metadata": {},
   "source": [
    "----"
   ]
  },
  {
   "cell_type": "markdown",
   "metadata": {},
   "source": [
    "# Download Data on Chess.com Games Played"
   ]
  },
  {
   "cell_type": "code",
   "execution_count": 19,
   "metadata": {},
   "outputs": [],
   "source": [
    "def getChessGamesPlayed(username, monthlist):\n",
    "    \n",
    "    games_list = []\n",
    "    \n",
    "    for i in range(0,len(monthlist)):\n",
    "        print(\"Getting Game Data for \" + monthlist[i])\n",
    "        \n",
    "        r = requests.get(\"https://api.chess.com/pub/player/\" + \n",
    "                         username + \"/games/\" + monthlist[i] +\"/\")\n",
    "        \n",
    "        r = requests.get(\"https://api.chess.com/pub/player/\" + \n",
    "                         username + \"/games/\" + monthlist[i] +\"/\")\n",
    "        \n",
    "        games_obj = r.json()\n",
    "        games_list.extend(games_obj['games'])\n",
    "        \n",
    "        # Wait for 10 seconds\n",
    "        time.sleep(10)\n",
    "                  \n",
    "    return games_list"
   ]
  },
  {
   "cell_type": "code",
   "execution_count": 20,
   "metadata": {},
   "outputs": [
    {
     "name": "stdout",
     "output_type": "stream",
     "text": [
      "Getting Game Data for 2018/09\n"
     ]
    }
   ],
   "source": [
    "# get all games stats\n",
    "games_list = getChessGamesPlayed(my_user, monthlist)"
   ]
  },
  {
   "cell_type": "code",
   "execution_count": 21,
   "metadata": {},
   "outputs": [],
   "source": [
    "# function to unpack nested data\n",
    "def unpack(df, column, fillna=None):\n",
    "    ret = None\n",
    "    if fillna is None:\n",
    "        ret = pd.concat([df, pd.DataFrame((d for idx, d in df[column].iteritems()))], axis=1)\n",
    "        del ret[column]\n",
    "    else:\n",
    "        ret = pd.concat([df, pd.DataFrame((d for idx, d in df[column].iteritems())).fillna(fillna)], axis=1)\n",
    "        del ret[column]\n",
    "    return ret"
   ]
  },
  {
   "cell_type": "code",
   "execution_count": 137,
   "metadata": {},
   "outputs": [],
   "source": [
    "# unpack the nested data \n",
    "tf = pd.DataFrame(games_list)\n",
    "\n",
    "games_played = unpack(tf, 'black', 0)\n",
    "games_played = unpack(games_played, 'white', 0)\n",
    "\n",
    "games_played.columns = ['end_time', 'fen', 'pgn', 'rated', 'rules', 'time_class',\n",
    "       'time_control', 'url', 'black_id', 'black_rating', 'black_result',\n",
    "       'black_username', 'white_id', 'white_rating', 'white_result', 'white_username']"
   ]
  },
  {
   "cell_type": "code",
   "execution_count": 138,
   "metadata": {},
   "outputs": [],
   "source": [
    "# convert to human readable time\n",
    "games_played['end_time'] = pd.to_datetime(games_played['end_time'], unit='s')"
   ]
  },
  {
   "cell_type": "code",
   "execution_count": 139,
   "metadata": {},
   "outputs": [],
   "source": [
    "# set which side I played\n",
    "games_played['my_side'] = np.where(games_played['white_username'] == my_user, 'white', 'black')"
   ]
  },
  {
   "cell_type": "code",
   "execution_count": 140,
   "metadata": {},
   "outputs": [],
   "source": [
    "# get and assign my result\n",
    "game_results = []\n",
    "\n",
    "for index, row in games_played.iterrows():\n",
    "    if row['white_username'] == my_user:\n",
    "        # print(\"I was white\")\n",
    "        game_results.append(row['white_result'])\n",
    "    else:\n",
    "        # print(\"I was black\")\n",
    "        game_results.append(row['black_result'])\n",
    "        \n",
    "games_played['my_result'] = game_results"
   ]
  },
  {
   "cell_type": "code",
   "execution_count": 34,
   "metadata": {},
   "outputs": [],
   "source": [
    "# export to csv\n",
    "#games_played.to_csv(my_user + \"_games_played_\" + str(start_year) \n",
    "#                    + \"-\" + str(start_month) + \"-to-\" + str(end_year) + \"-\" + str(end_month) + \".csv\")\n",
    "games_played.to_csv(\"data/\" + my_user + \"_games_played\" + \".csv\")"
   ]
  },
  {
   "cell_type": "markdown",
   "metadata": {},
   "source": [
    "-------"
   ]
  },
  {
   "cell_type": "markdown",
   "metadata": {},
   "source": [
    "## PGN Parser: Extract Data from PGN Game Files\n",
    "\n",
    "NOTE: To use this section, you need install the Chess-Python Library. \n",
    "\n",
    "You can install it via the command line with the following command: \n",
    "\n",
    "> pip install python-chess"
   ]
  },
  {
   "cell_type": "code",
   "execution_count": 121,
   "metadata": {},
   "outputs": [],
   "source": [
    "import chess.pgn\n",
    "import io\n",
    "import re"
   ]
  },
  {
   "cell_type": "code",
   "execution_count": 171,
   "metadata": {},
   "outputs": [],
   "source": [
    "terminations = []\n",
    "total_moves = []\n",
    "start_times = []\n",
    "end_times  = []\n",
    "moves_times_white = []\n",
    "moves_times_black = []\n",
    "\n",
    "for index, row in games_played.iterrows():\n",
    "    raw_pgn = io.StringIO(row['pgn'])\n",
    "    game = chess.pgn.read_game(raw_pgn)\n",
    "    \n",
    "    terminations.append(game.headers['Termination'] )\n",
    "\n",
    "    start_time = game.headers['Date'] + \" \" + game.headers['StartTime']\n",
    "    start_times.append(start_time)  \n",
    "\n",
    "    end_time = game.headers['Date'] + \" \" + game.headers['EndTime']\n",
    "    end_times.append(end_time) \n",
    "        \n",
    "    move_times = re.findall('\\{\\[%clk (.*?)\\]\\}', row['pgn'])\n",
    "    \n",
    "    total_moves.append(len(move_times))\n",
    "    \n",
    "    # last move time: \n",
    "    # print(move_times[-1])\n",
    "    \n",
    "    moves_times_white.append(', '.join(move_times[0:][::2]))\n",
    "    moves_times_black.append(', '.join(move_times[1:][::2]))\n",
    "\n",
    "games_played['termination'] = terminations \n",
    "\n",
    "games_played['total_moves'] = total_moves                       \n",
    "                       \n",
    "games_played['start_time'] = start_times   \n",
    "games_played['start_time'] = pd.to_datetime(games_played['start_time'])\n",
    "\n",
    "games_played['pgn_end_time'] = end_times   \n",
    "games_played['pgn_end_time'] = pd.to_datetime(games_played['pgn_end_time'])\n",
    "\n",
    "games_played['moves_times_white'] = moves_times_white\n",
    "games_played['moves_times_black'] = moves_times_black"
   ]
  },
  {
   "cell_type": "code",
   "execution_count": 172,
   "metadata": {},
   "outputs": [],
   "source": [
    "# TODO: Get the play time of each player from last timestamp minus total seconds of your side game"
   ]
  },
  {
   "cell_type": "code",
   "execution_count": 166,
   "metadata": {},
   "outputs": [
    {
     "data": {
      "text/html": [
       "<div>\n",
       "<style scoped>\n",
       "    .dataframe tbody tr th:only-of-type {\n",
       "        vertical-align: middle;\n",
       "    }\n",
       "\n",
       "    .dataframe tbody tr th {\n",
       "        vertical-align: top;\n",
       "    }\n",
       "\n",
       "    .dataframe thead th {\n",
       "        text-align: right;\n",
       "    }\n",
       "</style>\n",
       "<table border=\"1\" class=\"dataframe\">\n",
       "  <thead>\n",
       "    <tr style=\"text-align: right;\">\n",
       "      <th></th>\n",
       "      <th>end_time</th>\n",
       "      <th>fen</th>\n",
       "      <th>pgn</th>\n",
       "      <th>rated</th>\n",
       "      <th>rules</th>\n",
       "      <th>time_class</th>\n",
       "      <th>time_control</th>\n",
       "      <th>url</th>\n",
       "      <th>black_id</th>\n",
       "      <th>black_rating</th>\n",
       "      <th>...</th>\n",
       "      <th>white_result</th>\n",
       "      <th>white_username</th>\n",
       "      <th>my_side</th>\n",
       "      <th>my_result</th>\n",
       "      <th>termination</th>\n",
       "      <th>start_time</th>\n",
       "      <th>pgn_end_time</th>\n",
       "      <th>moves_times_white</th>\n",
       "      <th>moves_times_black</th>\n",
       "      <th>total_moves</th>\n",
       "    </tr>\n",
       "  </thead>\n",
       "  <tbody>\n",
       "    <tr>\n",
       "      <th>0</th>\n",
       "      <td>2018-09-02 15:55:30</td>\n",
       "      <td>1r6/2kQ4/ppn1r3/1Bp5/8/b1P2N2/P4PPP/3R2K1 b - -</td>\n",
       "      <td>[Event \"Live Chess\"]\\n[Site \"Chess.com\"]\\n[Dat...</td>\n",
       "      <td>True</td>\n",
       "      <td>chess</td>\n",
       "      <td>blitz</td>\n",
       "      <td>600</td>\n",
       "      <td>https://www.chess.com/live/game/3048167960</td>\n",
       "      <td>https://api.chess.com/pub/player/dim0504</td>\n",
       "      <td>1038</td>\n",
       "      <td>...</td>\n",
       "      <td>win</td>\n",
       "      <td>markwk</td>\n",
       "      <td>white</td>\n",
       "      <td>win</td>\n",
       "      <td>markwk won by checkmate</td>\n",
       "      <td>2018-09-02 15:55:30</td>\n",
       "      <td>2018-09-02 15:55:30</td>\n",
       "      <td>0:09:58.1, 0:09:53.4, 0:09:48, 0:09:36.4, 0:09...</td>\n",
       "      <td>0:09:56.2, 0:09:45.1, 0:09:35, 0:09:31.9, 0:09...</td>\n",
       "      <td>47</td>\n",
       "    </tr>\n",
       "    <tr>\n",
       "      <th>1</th>\n",
       "      <td>2018-09-03 11:06:34</td>\n",
       "      <td>r5k1/2p2ppn/2Pb4/p2BpK2/4PP1P/8/6r1/8 b - -</td>\n",
       "      <td>[Event \"Live Chess\"]\\n[Site \"Chess.com\"]\\n[Dat...</td>\n",
       "      <td>True</td>\n",
       "      <td>chess</td>\n",
       "      <td>blitz</td>\n",
       "      <td>600</td>\n",
       "      <td>https://www.chess.com/live/game/3049856809</td>\n",
       "      <td>https://api.chess.com/pub/player/markwk</td>\n",
       "      <td>1009</td>\n",
       "      <td>...</td>\n",
       "      <td>win</td>\n",
       "      <td>analardv</td>\n",
       "      <td>black</td>\n",
       "      <td>timeout</td>\n",
       "      <td>analardv won on time</td>\n",
       "      <td>2018-09-03 11:06:34</td>\n",
       "      <td>2018-09-03 11:06:34</td>\n",
       "      <td>0:09:59.9, 0:09:56.9, 0:09:51.2, 0:09:45.5, 0:...</td>\n",
       "      <td>0:09:56.5, 0:09:48.3, 0:09:37.8, 0:09:17.7, 0:...</td>\n",
       "      <td>75</td>\n",
       "    </tr>\n",
       "    <tr>\n",
       "      <th>2</th>\n",
       "      <td>2018-09-03 14:01:01</td>\n",
       "      <td>rnq1k1nr/ppp2ppp/3bP3/4pP2/8/2NP4/PPP3PP/R1BQK...</td>\n",
       "      <td>[Event \"Live Chess\"]\\n[Site \"Chess.com\"]\\n[Dat...</td>\n",
       "      <td>True</td>\n",
       "      <td>chess</td>\n",
       "      <td>blitz</td>\n",
       "      <td>600</td>\n",
       "      <td>https://www.chess.com/live/game/3050173823</td>\n",
       "      <td>https://api.chess.com/pub/player/mac987</td>\n",
       "      <td>933</td>\n",
       "      <td>...</td>\n",
       "      <td>win</td>\n",
       "      <td>markwk</td>\n",
       "      <td>white</td>\n",
       "      <td>win</td>\n",
       "      <td>markwk won by resignation</td>\n",
       "      <td>2018-09-03 14:01:01</td>\n",
       "      <td>2018-09-03 14:01:01</td>\n",
       "      <td>0:09:59.3, 0:09:51.7, 0:09:45.3, 0:09:38.3, 0:...</td>\n",
       "      <td>0:09:58.1, 0:09:52.6, 0:09:48, 0:09:39.6, 0:09...</td>\n",
       "      <td>13</td>\n",
       "    </tr>\n",
       "    <tr>\n",
       "      <th>3</th>\n",
       "      <td>2018-09-03 14:21:52</td>\n",
       "      <td>7r/2p1kp2/p4n1p/2P1p3/1n1pP2P/5P2/4QK1P/q4B1R ...</td>\n",
       "      <td>[Event \"Live Chess\"]\\n[Site \"Chess.com\"]\\n[Dat...</td>\n",
       "      <td>True</td>\n",
       "      <td>chess</td>\n",
       "      <td>blitz</td>\n",
       "      <td>600</td>\n",
       "      <td>https://www.chess.com/live/game/3050182763</td>\n",
       "      <td>https://api.chess.com/pub/player/markwk</td>\n",
       "      <td>1201</td>\n",
       "      <td>...</td>\n",
       "      <td>timeout</td>\n",
       "      <td>MoriJin99</td>\n",
       "      <td>black</td>\n",
       "      <td>win</td>\n",
       "      <td>markwk won on time</td>\n",
       "      <td>2018-09-03 14:21:52</td>\n",
       "      <td>2018-09-03 14:21:52</td>\n",
       "      <td>0:09:59.9, 0:09:53.5, 0:09:49.9, 0:09:25, 0:09...</td>\n",
       "      <td>0:09:57.4, 0:09:50, 0:09:41.5, 0:09:33.6, 0:09...</td>\n",
       "      <td>58</td>\n",
       "    </tr>\n",
       "    <tr>\n",
       "      <th>4</th>\n",
       "      <td>2018-09-04 16:24:17</td>\n",
       "      <td>rn1Q2k1/ppr1nppp/8/4P3/4P3/5P2/b3K1PP/1R3B1R b...</td>\n",
       "      <td>[Event \"Live Chess\"]\\n[Site \"Chess.com\"]\\n[Dat...</td>\n",
       "      <td>True</td>\n",
       "      <td>chess</td>\n",
       "      <td>blitz</td>\n",
       "      <td>600</td>\n",
       "      <td>https://www.chess.com/live/game/3052711810</td>\n",
       "      <td>https://api.chess.com/pub/player/mohitraychura</td>\n",
       "      <td>1047</td>\n",
       "      <td>...</td>\n",
       "      <td>win</td>\n",
       "      <td>markwk</td>\n",
       "      <td>white</td>\n",
       "      <td>win</td>\n",
       "      <td>markwk won by checkmate</td>\n",
       "      <td>2018-09-04 16:24:17</td>\n",
       "      <td>2018-09-04 16:24:17</td>\n",
       "      <td>0:09:59.4, 0:09:44.7, 0:09:27.5, 0:09:21.8, 0:...</td>\n",
       "      <td>0:09:56.8, 0:09:50.1, 0:09:47.5, 0:09:19.5, 0:...</td>\n",
       "      <td>43</td>\n",
       "    </tr>\n",
       "  </tbody>\n",
       "</table>\n",
       "<p>5 rows × 24 columns</p>\n",
       "</div>"
      ],
      "text/plain": [
       "             end_time                                                fen  \\\n",
       "0 2018-09-02 15:55:30    1r6/2kQ4/ppn1r3/1Bp5/8/b1P2N2/P4PPP/3R2K1 b - -   \n",
       "1 2018-09-03 11:06:34        r5k1/2p2ppn/2Pb4/p2BpK2/4PP1P/8/6r1/8 b - -   \n",
       "2 2018-09-03 14:01:01  rnq1k1nr/ppp2ppp/3bP3/4pP2/8/2NP4/PPP3PP/R1BQK...   \n",
       "3 2018-09-03 14:21:52  7r/2p1kp2/p4n1p/2P1p3/1n1pP2P/5P2/4QK1P/q4B1R ...   \n",
       "4 2018-09-04 16:24:17  rn1Q2k1/ppr1nppp/8/4P3/4P3/5P2/b3K1PP/1R3B1R b...   \n",
       "\n",
       "                                                 pgn  rated  rules time_class  \\\n",
       "0  [Event \"Live Chess\"]\\n[Site \"Chess.com\"]\\n[Dat...   True  chess      blitz   \n",
       "1  [Event \"Live Chess\"]\\n[Site \"Chess.com\"]\\n[Dat...   True  chess      blitz   \n",
       "2  [Event \"Live Chess\"]\\n[Site \"Chess.com\"]\\n[Dat...   True  chess      blitz   \n",
       "3  [Event \"Live Chess\"]\\n[Site \"Chess.com\"]\\n[Dat...   True  chess      blitz   \n",
       "4  [Event \"Live Chess\"]\\n[Site \"Chess.com\"]\\n[Dat...   True  chess      blitz   \n",
       "\n",
       "  time_control                                         url  \\\n",
       "0          600  https://www.chess.com/live/game/3048167960   \n",
       "1          600  https://www.chess.com/live/game/3049856809   \n",
       "2          600  https://www.chess.com/live/game/3050173823   \n",
       "3          600  https://www.chess.com/live/game/3050182763   \n",
       "4          600  https://www.chess.com/live/game/3052711810   \n",
       "\n",
       "                                         black_id  black_rating     ...      \\\n",
       "0        https://api.chess.com/pub/player/dim0504          1038     ...       \n",
       "1         https://api.chess.com/pub/player/markwk          1009     ...       \n",
       "2         https://api.chess.com/pub/player/mac987           933     ...       \n",
       "3         https://api.chess.com/pub/player/markwk          1201     ...       \n",
       "4  https://api.chess.com/pub/player/mohitraychura          1047     ...       \n",
       "\n",
       "  white_result white_username my_side  my_result                termination  \\\n",
       "0          win         markwk   white        win    markwk won by checkmate   \n",
       "1          win       analardv   black    timeout       analardv won on time   \n",
       "2          win         markwk   white        win  markwk won by resignation   \n",
       "3      timeout      MoriJin99   black        win         markwk won on time   \n",
       "4          win         markwk   white        win    markwk won by checkmate   \n",
       "\n",
       "           start_time        pgn_end_time  \\\n",
       "0 2018-09-02 15:55:30 2018-09-02 15:55:30   \n",
       "1 2018-09-03 11:06:34 2018-09-03 11:06:34   \n",
       "2 2018-09-03 14:01:01 2018-09-03 14:01:01   \n",
       "3 2018-09-03 14:21:52 2018-09-03 14:21:52   \n",
       "4 2018-09-04 16:24:17 2018-09-04 16:24:17   \n",
       "\n",
       "                                   moves_times_white  \\\n",
       "0  0:09:58.1, 0:09:53.4, 0:09:48, 0:09:36.4, 0:09...   \n",
       "1  0:09:59.9, 0:09:56.9, 0:09:51.2, 0:09:45.5, 0:...   \n",
       "2  0:09:59.3, 0:09:51.7, 0:09:45.3, 0:09:38.3, 0:...   \n",
       "3  0:09:59.9, 0:09:53.5, 0:09:49.9, 0:09:25, 0:09...   \n",
       "4  0:09:59.4, 0:09:44.7, 0:09:27.5, 0:09:21.8, 0:...   \n",
       "\n",
       "                                   moves_times_black total_moves  \n",
       "0  0:09:56.2, 0:09:45.1, 0:09:35, 0:09:31.9, 0:09...          47  \n",
       "1  0:09:56.5, 0:09:48.3, 0:09:37.8, 0:09:17.7, 0:...          75  \n",
       "2  0:09:58.1, 0:09:52.6, 0:09:48, 0:09:39.6, 0:09...          13  \n",
       "3  0:09:57.4, 0:09:50, 0:09:41.5, 0:09:33.6, 0:09...          58  \n",
       "4  0:09:56.8, 0:09:50.1, 0:09:47.5, 0:09:19.5, 0:...          43  \n",
       "\n",
       "[5 rows x 24 columns]"
      ]
     },
     "execution_count": 166,
     "metadata": {},
     "output_type": "execute_result"
    }
   ],
   "source": [
    "games_played.head()"
   ]
  },
  {
   "cell_type": "code",
   "execution_count": 156,
   "metadata": {},
   "outputs": [],
   "source": [
    "# export detailed stats to csv\n",
    "games_played.to_csv(\"data/\" + my_user + \"_games_played_detailed\" + \".csv\")"
   ]
  },
  {
   "cell_type": "code",
   "execution_count": null,
   "metadata": {},
   "outputs": [],
   "source": []
  },
  {
   "cell_type": "code",
   "execution_count": null,
   "metadata": {},
   "outputs": [],
   "source": []
  },
  {
   "cell_type": "code",
   "execution_count": null,
   "metadata": {},
   "outputs": [],
   "source": []
  }
 ],
 "metadata": {
  "kernelspec": {
   "display_name": "Python 3",
   "language": "python",
   "name": "python3"
  },
  "language_info": {
   "codemirror_mode": {
    "name": "ipython",
    "version": 3
   },
   "file_extension": ".py",
   "mimetype": "text/x-python",
   "name": "python",
   "nbconvert_exporter": "python",
   "pygments_lexer": "ipython3",
   "version": "3.6.2"
  }
 },
 "nbformat": 4,
 "nbformat_minor": 2
}
